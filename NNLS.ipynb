{
 "cells": [
  {
   "cell_type": "markdown",
   "metadata": {},
   "source": [
    "**Non-negative Least Squares**\n",
    "\n",
    "We will fit a linear model with a positive constraints on the regression coefficients and compare the estimated coefficients to a classic linear regression(OLS). "
   ]
  },
  {
   "cell_type": "code",
   "execution_count": 2,
   "metadata": {},
   "outputs": [],
   "source": [
    "import matplotlib.pyplot as plt\n",
    "import numpy as np\n",
    "\n",
    "from sklearn.metrics import r2_score\n"
   ]
  },
  {
   "cell_type": "code",
   "execution_count": 7,
   "metadata": {},
   "outputs": [],
   "source": [
    "##Generating random data\n",
    "\n",
    "np.random.seed(42)\n",
    "\n",
    "n_samples, n_features = 200, 50\n",
    "\n",
    "#Generating a 200 * 50 matrix of 200 samples with 50 features each, where each element is a random number drawn from a normal distribution(mean = 0, SD = 1)\n",
    "\n",
    "X = np.random.randn(n_samples, n_features)\n",
    "\n",
    "true_coef = 3 * np.random.randn(n_features)\n",
    "\n",
    "#Setting the coefficients to be non-negative\n",
    "\n",
    "true_coef[true_coef < 0] = 0\n",
    "\n",
    "y = np.dot(X,true_coef)\n",
    "\n",
    "#Adding some noise to simulate real-world data\n",
    "\n",
    "y += 5 * np.random.normal(size = (n_samples,))"
   ]
  }
 ],
 "metadata": {
  "kernelspec": {
   "display_name": "base",
   "language": "python",
   "name": "python3"
  },
  "language_info": {
   "codemirror_mode": {
    "name": "ipython",
    "version": 3
   },
   "file_extension": ".py",
   "mimetype": "text/x-python",
   "name": "python",
   "nbconvert_exporter": "python",
   "pygments_lexer": "ipython3",
   "version": "3.12.7"
  }
 },
 "nbformat": 4,
 "nbformat_minor": 2
}
