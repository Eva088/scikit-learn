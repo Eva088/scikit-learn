{
 "cells": [
  {
   "cell_type": "markdown",
   "metadata": {},
   "source": [
    "**Non-negative Least Squares**\n",
    "\n",
    "We will fit a linear model with a positive constraints on the regression coefficients and compare the estimated coefficients to a classic linear regression(OLS). "
   ]
  },
  {
   "cell_type": "code",
   "execution_count": 1,
   "metadata": {},
   "outputs": [],
   "source": [
    "import matplotlib.pyplot as plt\n",
    "import numpy as np\n",
    "\n",
    "from sklearn.metrics import r2_score\n"
   ]
  },
  {
   "cell_type": "code",
   "execution_count": 3,
   "metadata": {},
   "outputs": [],
   "source": [
    "##Generating random data\n",
    "\n",
    "np.random.seed(42)\n",
    "\n",
    "n_samples, n_features = 200, 50\n",
    "\n",
    "#Generating a 200 * 50 matrix of 200 samples with 50 features each, where each element is a random number drawn from a normal distribution(mean = 0, SD = 1)\n",
    "\n",
    "X = np.random.randn(n_samples, n_features)\n",
    "\n",
    "true_coef = 3 * np.random.randn(n_features)\n",
    "\n"
   ]
  }
 ],
 "metadata": {
  "kernelspec": {
   "display_name": "base",
   "language": "python",
   "name": "python3"
  },
  "language_info": {
   "codemirror_mode": {
    "name": "ipython",
    "version": 3
   },
   "file_extension": ".py",
   "mimetype": "text/x-python",
   "name": "python",
   "nbconvert_exporter": "python",
   "pygments_lexer": "ipython3",
   "version": "3.12.7"
  }
 },
 "nbformat": 4,
 "nbformat_minor": 2
}
