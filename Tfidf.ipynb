{
 "cells": [
  {
   "cell_type": "markdown",
   "metadata": {},
   "source": [
    "**Introduction**\n",
    "\n",
    "Term Frequency - Inverse Document Frequency (Tf-idf) is an important tool in Natural Language Processing and is used by algorithms like cosine similarity to find documents that aare similar to a given search query. "
   ]
  },
  {
   "cell_type": "markdown",
   "metadata": {},
   "source": [
    "1. Term Frequency\n",
    "\n",
    "Tf is the number of times a term appears in a particular document. It's specific to a document. \n",
    "\n",
    "tf(t) : THe number of times 't' appears in a document\n",
    "\n",
    "2. Inverse Document Frequency \n",
    "\n",
    "idf is the measure of how common or rare a term is across the entire corpus of documents. It's common to all the documents. If it's common to and appears in many documents, the idf value (normallized) will approach 0 or else approach 1 if it's rare. \n",
    "\n",
    "\n",
    "tf-idf value of a term in a document is the product of its tf and idf. The higher the value, the more relevant the term is in that document. \n"
   ]
  },
  {
   "cell_type": "code",
   "execution_count": 7,
   "metadata": {},
   "outputs": [
    {
     "name": "stdout",
     "output_type": "stream",
     "text": [
      "['petrol cars are cheaper than diesel cars', 'diesel is cheaper than petrol']\n"
     ]
    }
   ],
   "source": [
    "#Importing the library\n",
    "\n",
    "from sklearn.feature_extraction.text import TfidfVectorizer\n",
    "\n",
    "#Setting up the document corpus\n",
    "\n",
    "d1 = \"petrol cars are cheaper than diesel cars\"\n",
    "\n",
    "d2 = \"diesel is cheaper than petrol\"\n",
    "\n",
    "doc_corpus = [d1, d2]\n",
    "\n",
    "print(doc_corpus)"
   ]
  },
  {
   "cell_type": "code",
   "execution_count": 10,
   "metadata": {},
   "outputs": [
    {
     "name": "stdout",
     "output_type": "stream",
     "text": [
      "Feature Names n:  ['cars' 'cheaper' 'diesel' 'petrol']\n"
     ]
    }
   ],
   "source": [
    "#Initializing TfidfVectorizer and printing the feature names\n",
    "\n",
    "vec = TfidfVectorizer(stop_words = 'english') #the vectorizer will automatically exclude common english stop words\n",
    "\n",
    "#These words are typically not very informative for tasks like text classification or clustering\n",
    "matrix = vec.fit_transform(doc_corpus)\n",
    "\n",
    "print(\"Feature Names n: \", vec.get_feature_names_out())"
   ]
  }
 ],
 "metadata": {
  "kernelspec": {
   "display_name": "base",
   "language": "python",
   "name": "python3"
  },
  "language_info": {
   "codemirror_mode": {
    "name": "ipython",
    "version": 3
   },
   "file_extension": ".py",
   "mimetype": "text/x-python",
   "name": "python",
   "nbconvert_exporter": "python",
   "pygments_lexer": "ipython3",
   "version": "3.12.7"
  }
 },
 "nbformat": 4,
 "nbformat_minor": 2
}
