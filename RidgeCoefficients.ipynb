{
 "cells": [
  {
   "cell_type": "markdown",
   "metadata": {},
   "source": [
    "**Plotting Ridge Coefficients as a function of the regularization**"
   ]
  },
  {
   "cell_type": "markdown",
   "metadata": {},
   "source": [
    "Shows the effect of collinearity in the coefficients of an estimator. Each color represents a different feature of the coefficient vector, and this is displayed as a function of the regularization parameter. \n",
    "\n",
    "This example also shows the usefuness of applying Ridge Regression to highly ill-conditioned matrices. For such matrices, a slight change in the target variable can cause huge variances in the calculated weights. In such cases, it is useful to set a certain regularization (alpha) to reduce this variation (noise).\n",
    "\n",
    "Higher alpha leads to underfitting and lower alpha leads to overfitting. If alpha = 0, the model behaves like an OLS model (coefficients exhibit big oscillations). In practice, it is necessary to tune alpha in such a way that a balance is maintained between regularization effect and minimizing the squared loss function. \n"
   ]
  },
  {
   "cell_type": "code",
   "execution_count": 2,
   "metadata": {},
   "outputs": [],
   "source": [
    "import matplotlib.pyplot as plt\n",
    "import numpy as np\n",
    "from sklearn import linear_model\n",
    "\n",
    "# X is the 10 * 10 Hilbert Matrix\n",
    "\n",
    "X = 1.0/ (np.arange(1,11) + np.arange(0,10) [:, np.newaxis])\n",
    "\n",
    "y = np.ones(10)\n"
   ]
  },
  {
   "cell_type": "code",
   "execution_count": null,
   "metadata": {},
   "outputs": [],
   "source": [
    "#Computing Paths\n",
    "\n"
   ]
  }
 ],
 "metadata": {
  "kernelspec": {
   "display_name": "base",
   "language": "python",
   "name": "python3"
  },
  "language_info": {
   "codemirror_mode": {
    "name": "ipython",
    "version": 3
   },
   "file_extension": ".py",
   "mimetype": "text/x-python",
   "name": "python",
   "nbconvert_exporter": "python",
   "pygments_lexer": "ipython3",
   "version": "3.12.7"
  }
 },
 "nbformat": 4,
 "nbformat_minor": 2
}
