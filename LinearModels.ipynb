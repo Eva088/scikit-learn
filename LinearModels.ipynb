{
 "cells": [
  {
   "cell_type": "markdown",
   "metadata": {},
   "source": [
    "**Linear Models**\n",
    "\n",
    "These are the methods for regression where the target variable is expected to be a linear combination of the features. \n",
    "\n",
    "**1.1.1 Ordinary Least Squares**\n",
    "\n",
    "$$ \\text{RSS} = \\sum_{i=1}^{n} (y_i - \\hat{y}_i)^2 $$\n",
    "\n",
    "The goal of OLS is to estimate the coefficients that minimize the sum of squared residuals(errors) between the observed target values and the value of the target predicted by the linear approximation. \n",
    "\n",
    "LinearRegression will take in its fit method arrays X,y and will store the coefficients 'w' of the linear model in its coef_ member. "
   ]
  },
  {
   "cell_type": "code",
   "execution_count": 2,
   "metadata": {},
   "outputs": [
    {
     "data": {
      "text/plain": [
       "array([0.5, 0.5])"
      ]
     },
     "execution_count": 2,
     "metadata": {},
     "output_type": "execute_result"
    }
   ],
   "source": [
    "from sklearn import linear_model\n",
    "reg = linear_model.LinearRegression()\n",
    "reg.fit([[0,0], [1,1], [2,2]], [0,1,2])\n",
    "reg.coef_"
   ]
  },
  {
   "cell_type": "markdown",
   "metadata": {},
   "source": [
    "OLS relies on the assumption that features are independent. Multicollinearity occurs when features are highly correlated, which makes the design matrix nearly singular and the coefficient estimates unstable. When this happens, the model's predictions become very sensitive to small errors in the data, leading to high variance in the estimates. \n",
    "\n",
    "Example: If you're predicting house prices, and your features include both 'house size' and 'number of rooms', which are correlated, your model might gibr inconsistent or unreliable estimates of how each feature impacts price. "
   ]
  },
  {
   "cell_type": "markdown",
   "metadata": {},
   "source": [
    "**1.1.1.1. Non-negative Least Squares**\n",
    "\n",
    "This model constrains the coefficients to be non-negative by setting the parameter positive to be True. It is applicable while representing non-negative entities such as frequency counts or prices of goods. \n",
    "\n"
   ]
  }
 ],
 "metadata": {
  "kernelspec": {
   "display_name": "base",
   "language": "python",
   "name": "python3"
  },
  "language_info": {
   "codemirror_mode": {
    "name": "ipython",
    "version": 3
   },
   "file_extension": ".py",
   "mimetype": "text/x-python",
   "name": "python",
   "nbconvert_exporter": "python",
   "pygments_lexer": "ipython3",
   "version": "3.12.7"
  }
 },
 "nbformat": 4,
 "nbformat_minor": 2
}
